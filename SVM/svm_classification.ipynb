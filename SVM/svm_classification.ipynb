{
 "cells": [
  {
   "cell_type": "markdown",
   "metadata": {},
   "source": [
    "# Spaceship Titanic Classification w/ Support Vector Classifier\n",
    "\n",
    "#### Dataset: https://www.kaggle.com/competitions/spaceship-titanic/overview\n",
    "##### Dataset License: https://creativecommons.org/licenses/by/4.0/\n",
    "\n",
    "###### Author: Cody Weaver"
   ]
  },
  {
   "cell_type": "code",
   "execution_count": 1,
   "metadata": {},
   "outputs": [],
   "source": [
    "import pandas as pd\n",
    "import numpy as np\n",
    "from sklearn.model_selection import KFold, cross_val_score\n",
    "from sklearn.svm import SVC\n",
    "from ssvm import SoftSVM\n",
    "from kernel_ssvm import KSVM"
   ]
  },
  {
   "cell_type": "markdown",
   "metadata": {},
   "source": [
    "### Load training set"
   ]
  },
  {
   "cell_type": "code",
   "execution_count": 2,
   "metadata": {},
   "outputs": [
    {
     "name": "stdout",
     "output_type": "stream",
     "text": [
      "  PassengerId HomePlanet CryoSleep  Cabin  Destination   Age    VIP  \\\n",
      "0     0001_01     Europa     False  B/0/P  TRAPPIST-1e  39.0  False   \n",
      "1     0002_01      Earth     False  F/0/S  TRAPPIST-1e  24.0  False   \n",
      "2     0003_01     Europa     False  A/0/S  TRAPPIST-1e  58.0   True   \n",
      "3     0003_02     Europa     False  A/0/S  TRAPPIST-1e  33.0  False   \n",
      "4     0004_01      Earth     False  F/1/S  TRAPPIST-1e  16.0  False   \n",
      "\n",
      "   RoomService  FoodCourt  ShoppingMall     Spa  VRDeck               Name  \\\n",
      "0          0.0        0.0           0.0     0.0     0.0    Maham Ofracculy   \n",
      "1        109.0        9.0          25.0   549.0    44.0       Juanna Vines   \n",
      "2         43.0     3576.0           0.0  6715.0    49.0      Altark Susent   \n",
      "3          0.0     1283.0         371.0  3329.0   193.0       Solam Susent   \n",
      "4        303.0       70.0         151.0   565.0     2.0  Willy Santantines   \n",
      "\n",
      "   Transported  \n",
      "0        False  \n",
      "1         True  \n",
      "2        False  \n",
      "3        False  \n",
      "4         True  \n",
      "PassengerId      object\n",
      "HomePlanet       object\n",
      "CryoSleep        object\n",
      "Cabin            object\n",
      "Destination      object\n",
      "Age             float64\n",
      "VIP              object\n",
      "RoomService     float64\n",
      "FoodCourt       float64\n",
      "ShoppingMall    float64\n",
      "Spa             float64\n",
      "VRDeck          float64\n",
      "Name             object\n",
      "Transported        bool\n",
      "dtype: object\n"
     ]
    }
   ],
   "source": [
    "train_set = pd.read_csv('../data/train.csv')\n",
    "print(train_set.head())\n",
    "print(train_set.dtypes)\n",
    "\n",
    "# convert bool labels to -1, 1\n",
    "def convert_labels(df, label_col='Transported'):\n",
    "    return df[label_col].apply(lambda l: 1 if l else -1)\n",
    "\n",
    "train_set['Transported'] = convert_labels(train_set)"
   ]
  },
  {
   "cell_type": "markdown",
   "metadata": {},
   "source": [
    "### Classification using amenities data only"
   ]
  },
  {
   "cell_type": "code",
   "execution_count": 3,
   "metadata": {},
   "outputs": [],
   "source": [
    "amenities_columns = ['RoomService', 'FoodCourt', 'ShoppingMall', 'Spa', 'VRDeck']\n",
    "\n",
    "amenities_data = train_set.copy()\n",
    "\n",
    "def normalize_amenity_data(df, col_names):\n",
    "    # normalize to mean zero and unit variance\n",
    "    for column in amenities_columns:\n",
    "        column_mean = amenities_data[column].mean()\n",
    "        column_std = amenities_data[column].std()\n",
    "        normalize = lambda x: (x - column_mean) / column_std\n",
    "        amenities_data[column] = normalize(amenities_data[column])\n",
    "\n",
    "    # fill in missing values for amenities\n",
    "    amenities_data[amenities_columns] = amenities_data[amenities_columns].fillna(0)\n",
    "    \n",
    "    return amenities_data[amenities_columns]\n",
    "\n",
    "amenities_data[amenities_columns] = normalize_amenity_data(train_set, amenities_columns)"
   ]
  },
  {
   "cell_type": "markdown",
   "metadata": {},
   "source": [
    "### Cross-Validation"
   ]
  },
  {
   "cell_type": "code",
   "execution_count": 4,
   "metadata": {},
   "outputs": [
    {
     "name": "stdout",
     "output_type": "stream",
     "text": [
      "0.7882230637953772\n"
     ]
    }
   ],
   "source": [
    "model = SVC()\n",
    "\n",
    "X = amenities_data[amenities_columns].to_numpy()\n",
    "y = amenities_data['Transported'].to_numpy()\n",
    "\n",
    "print(cross_val_score(model, X, y, cv=5).mean())"
   ]
  },
  {
   "cell_type": "markdown",
   "metadata": {},
   "source": [
    "# Classification using more features"
   ]
  },
  {
   "cell_type": "code",
   "execution_count": 5,
   "metadata": {},
   "outputs": [],
   "source": [
    "def normalize_numerical_feats(df, cols):\n",
    "    numerical_cols = df[cols].copy()\n",
    "\n",
    "    for col in cols:\n",
    "        mean = numerical_cols[col].mean()\n",
    "        std = numerical_cols[col].std()\n",
    "        \n",
    "        normalize = lambda x: (x - mean ) / std\n",
    "        numerical_cols[col] = numerical_cols[col].apply(normalize)\n",
    "\n",
    "    # fill in missing values with mean (0)\n",
    "    numerical_cols[cols].fillna(0)\n",
    "\n",
    "    return numerical_cols\n",
    "\n",
    "def convert_bool_feats(df, cols):\n",
    "    boolean_cols = df[cols].copy()\n",
    "\n",
    "    convert_bool = lambda x: 1 if x else 0\n",
    "\n",
    "    for col in cols:\n",
    "        boolean_cols[col] = boolean_cols[col].apply(convert_bool)\n",
    "\n",
    "    # fill in missing values with 0\n",
    "    boolean_cols.fillna(0)\n",
    "\n",
    "    return boolean_cols\n",
    "\n",
    "def prepare_dataset(dataset, training):\n",
    "    if training:\n",
    "        data = pd.DataFrame(dataset[['PassengerId', 'Transported']])\n",
    "    else:\n",
    "        data = pd.DataFrame(dataset[['PassengerId']])\n",
    "\n",
    "    # normalize continuous numerical features\n",
    "    NUMERICAL_FEATS = ['Age', 'RoomService', 'FoodCourt', 'ShoppingMall', 'Spa', 'VRDeck']\n",
    "    data[NUMERICAL_FEATS] = normalize_numerical_feats(dataset, NUMERICAL_FEATS)\n",
    "    # convert boolean values to 0, 1\n",
    "    BOOLEAN_FEATS = ['CryoSleep', 'VIP']\n",
    "    data[BOOLEAN_FEATS] = convert_bool_feats(dataset, BOOLEAN_FEATS)\n",
    "\n",
    "    # convert nominal feats to numerical feats\n",
    "    # home planet\n",
    "    home_planet_dummies = pd.get_dummies(dataset['HomePlanet'], dtype=np.float64)\n",
    "    home_planet_dummies.fillna(0)\n",
    "    data[home_planet_dummies.columns] = home_planet_dummies\n",
    "\n",
    "    # destination\n",
    "    destination_dummies = pd.get_dummies(dataset['Destination'], dtype=np.float64)\n",
    "    destination_dummies.fillna(0)\n",
    "    data[destination_dummies.columns] = destination_dummies\n",
    "\n",
    "    # cabin (exclude cabin numbers)\n",
    "    cabin = dataset['Cabin']\n",
    "    cabin = cabin.apply(lambda cabin: str(cabin).split('/'))\n",
    "    cabin = pd.DataFrame(\n",
    "        cabin.to_list(), \n",
    "        index=cabin.index,\n",
    "        columns=['Deck', 'CabinNum', 'Side'])\n",
    "\n",
    "    deck = cabin['Deck']\n",
    "    side = cabin['Side']\n",
    "    \n",
    "    deck_dummies = pd.get_dummies(deck, dtype=np.float64)\n",
    "    deck_dummies = deck_dummies.drop('nan', axis=1)\n",
    "    deck_dummies.fillna(0)\n",
    "    data[deck_dummies.columns] = deck_dummies\n",
    "\n",
    "    side_dummies = pd.get_dummies(side, dtype=np.float64)\n",
    "    side_dummies.fillna(0)\n",
    "    data[side_dummies.columns] = side_dummies\n",
    "\n",
    "    data = data.fillna(0)\n",
    "\n",
    "    return data\n",
    "\n",
    "training_data = prepare_dataset(train_set, training=True)"
   ]
  },
  {
   "cell_type": "markdown",
   "metadata": {},
   "source": [
    "# Cross-Validation"
   ]
  },
  {
   "cell_type": "code",
   "execution_count": 6,
   "metadata": {},
   "outputs": [
    {
     "name": "stdout",
     "output_type": "stream",
     "text": [
      "[0.77918344 0.79700978 0.79758482 0.81012658 0.80379747]\n"
     ]
    }
   ],
   "source": [
    "model = SVC()\n",
    "\n",
    "X = training_data[training_data.columns.difference(['Transported', 'PassengerId'])].to_numpy()\n",
    "y = training_data['Transported'].to_numpy()\n",
    "\n",
    "print(cross_val_score(model, X, y, cv=5))"
   ]
  },
  {
   "cell_type": "markdown",
   "metadata": {},
   "source": [
    "# Predicting on Test Set\n",
    "\n",
    "Reaches around 80% accuracy on test set"
   ]
  },
  {
   "cell_type": "code",
   "execution_count": 7,
   "metadata": {},
   "outputs": [],
   "source": [
    "# load raw test dataset\n",
    "test_set = pd.read_csv('../data/test.csv')\n",
    "\n",
    "test_data = prepare_dataset(test_set, training=False)\n",
    "\n",
    "X_test = test_data[test_data.columns.difference(['PassengerId'])].to_numpy()\n",
    "\n",
    "model = SVC()\n",
    "model.fit(X, y)\n",
    "\n",
    "predictions = model.predict(X_test)\n",
    "predictions = pd.DataFrame(predictions.tolist(), columns=['Transported'])\n",
    "\n",
    "submission_data = pd.concat([test_set['PassengerId'].copy(), predictions], axis=1)\n",
    "submission_data['Transported'] = submission_data['Transported'].apply(lambda l: True if l == 1 else False)\n",
    "submission_data.to_csv('../submissions/svc_03-21.csv', index=False)"
   ]
  },
  {
   "cell_type": "markdown",
   "metadata": {},
   "source": [
    "### Custom SVM"
   ]
  },
  {
   "cell_type": "code",
   "execution_count": 8,
   "metadata": {},
   "outputs": [
    {
     "name": "stdout",
     "output_type": "stream",
     "text": [
      "Cross-Validated Scores - acc: 0.78\n"
     ]
    }
   ],
   "source": [
    "X = training_data[training_data.columns.difference(['Transported', 'PassengerId'])].to_numpy()\n",
    "y = training_data['Transported'].to_numpy()\n",
    "\n",
    "def cross_validate(X, Y, num_folds, ModelClass):\n",
    "    cv_scores = []\n",
    "    X = X\n",
    "    Y = Y\n",
    "\n",
    "    kfold = KFold(n_splits=num_folds, shuffle=True, random_state=101)\n",
    "\n",
    "    for i, (train_idx, test_idx) in enumerate(kfold.split(X, Y)):\n",
    "        X_train = X[train_idx]\n",
    "        Y_train = Y[train_idx]\n",
    "\n",
    "        X_test = X[test_idx]\n",
    "        Y_test = Y[test_idx]\n",
    "\n",
    "        model = ModelClass()\n",
    "        model.fit(X_train, Y_train, lamb=1e-1, num_iters=10000)\n",
    "\n",
    "        scores = model.evaluate(X_test, Y_test)\n",
    "        cv_scores.append(scores)\n",
    "\n",
    "    acc = np.mean(cv_scores)\n",
    "    print('Cross-Validated Scores - acc: %.2f' % acc)\n",
    "\n",
    "cross_validate(X, y, 5, SoftSVM)"
   ]
  },
  {
   "cell_type": "markdown",
   "metadata": {},
   "source": [
    "### Predict on test set\n",
    "\n",
    "Reaches about 77% accuracy on test set"
   ]
  },
  {
   "cell_type": "code",
   "execution_count": 9,
   "metadata": {},
   "outputs": [],
   "source": [
    "model = SoftSVM()\n",
    "model.fit(X, y)\n",
    "\n",
    "predictions = model.predict(X_test)\n",
    "predictions = pd.DataFrame(predictions.tolist(), columns=['Transported'])\n",
    "\n",
    "submission_data = pd.concat([test_set['PassengerId'].copy(), predictions], axis=1)\n",
    "submission_data['Transported'] = submission_data['Transported'].apply(lambda l: True if l == 1 else False)\n",
    "submission_data.to_csv('../submissions/ssvm_03-21.csv', index=False)"
   ]
  },
  {
   "cell_type": "code",
   "execution_count": 10,
   "metadata": {},
   "outputs": [
    {
     "name": "stdout",
     "output_type": "stream",
     "text": [
      "Cross-Validated Scores - acc: 0.73\n"
     ]
    }
   ],
   "source": [
    "cross_validate(X, y, 5, KSVM)"
   ]
  },
  {
   "cell_type": "code",
   "execution_count": 11,
   "metadata": {},
   "outputs": [],
   "source": [
    "model = KSVM()\n",
    "model.fit(X, y, num_iters=10000)\n",
    "\n",
    "predictions = model.predict(X_test)\n",
    "predictions = pd.DataFrame(predictions.tolist(), columns=['Transported'])\n",
    "\n",
    "submission_data = pd.concat([test_set['PassengerId'].copy(), predictions], axis=1)\n",
    "submission_data['Transported'] = submission_data['Transported'].apply(lambda l: True if l == 1 else False)\n",
    "submission_data.to_csv('../submissions/ksvm.csv', index=False)"
   ]
  }
 ],
 "metadata": {
  "kernelspec": {
   "display_name": "Python 3 (ipykernel)",
   "language": "python",
   "name": "python3"
  },
  "language_info": {
   "codemirror_mode": {
    "name": "ipython",
    "version": 3
   },
   "file_extension": ".py",
   "mimetype": "text/x-python",
   "name": "python",
   "nbconvert_exporter": "python",
   "pygments_lexer": "ipython3",
   "version": "3.12.8"
  }
 },
 "nbformat": 4,
 "nbformat_minor": 2
}
